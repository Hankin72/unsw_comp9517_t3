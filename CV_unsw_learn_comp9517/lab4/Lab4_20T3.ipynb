{
 "cells": [
  {
   "cell_type": "code",
   "execution_count": 15,
   "metadata": {},
   "outputs": [],
   "source": [
    "from sklearn.datasets import load_digits\n",
    "import numpy as np\n",
    "import matplotlib.pyplot as plt\n",
    "from sklearn.model_selection import train_test_split\n",
    "from sklearn.neighbors import KNeighborsClassifier\n",
    "from sklearn import svm\n",
    "from sklearn.ensemble import RandomForestClassifier\n",
    "from sklearn import metrics"
   ]
  },
  {
   "cell_type": "code",
   "execution_count": 16,
   "metadata": {},
   "outputs": [
    {
     "name": "stdout",
     "output_type": "stream",
     "text": [
      "Image Data and Labels Shape: (1797, 64) (1797,)\n",
      "Image Data Size: 64\n"
     ]
    }
   ],
   "source": [
    "# Load digits\n",
    "digits = load_digits()\n",
    "print(\"Image Data and Labels Shape:\", digits.data.shape,  digits.target.shape)\n",
    "print(\"Image Data Size:\", digits.data[0].size)"
   ]
  },
  {
   "cell_type": "code",
   "execution_count": 53,
   "metadata": {},
   "outputs": [
    {
     "data": {
      "image/png": "[encoded data removed]",
      "text/plain": [
       "<Figure size 1440x720 with 5 Axes>"
      ]
     },
     "metadata": {
      "needs_background": "light"
     },
     "output_type": "display_data"
    }
   ],
   "source": [
    "# Display the 5 sample images and their labels\n",
    "plt.figure(figsize=(20, 10))\n",
    "for index, (image, label) in enumerate(zip(digits.data[10:15], digits.target[10:15])):\n",
    "    plt.subplot(1, 5, index + 1)\n",
    "    plt.imshow(np.reshape(image, (8, 8)), cmap='gray')\n",
    "    plt.title('Label: %i\\n' % label, fontsize=25)"
   ]
  },
  {
   "cell_type": "code",
   "execution_count": 48,
   "metadata": {},
   "outputs": [],
   "source": [
    "test_size = 0.3\n",
    "n_neighbors = 3\n",
    "\n",
    "# Split the data\n",
    "x_train, x_test, y_train, y_test = train_test_split(digits.data, digits.target,test_size=test_size, random_state=0)"
   ]
  },
  {
   "cell_type": "code",
   "execution_count": 49,
   "metadata": {},
   "outputs": [],
   "source": [
    "# Initialize the KNN model\n",
    "clf_knn = KNeighborsClassifier(n_neighbors=n_neighbors)\n",
    "clf_knn.fit(x_train, y_train)\n",
    "# Evaluate/predict the test data\n",
    "knn_predictions = clf_knn.predict(x_test)"
   ]
  },
  {
   "cell_type": "code",
   "execution_count": 50,
   "metadata": {},
   "outputs": [],
   "source": [
    "clf_svm = svm.SVC()#gamma=0.001, C=100.)\n",
    "clf_svm.fit(x_train, y_train)\n",
    "SVM_predictions = clf_svm.predict(x_test)"
   ]
  },
  {
   "cell_type": "code",
   "execution_count": 51,
   "metadata": {},
   "outputs": [],
   "source": [
    "clf_rf = RandomForestClassifier()#max_depth=2, random_state=0)\n",
    "clf_rf.fit(x_train, y_train)\n",
    "RF_predictions = clf_rf.predict(x_test)"
   ]
  },
  {
   "cell_type": "code",
   "execution_count": 58,
   "metadata": {},
   "outputs": [
    {
     "name": "stdout",
     "output_type": "stream",
     "text": [
      "COMP9517  Lab 4 - Solution\n",
      "\n",
      "Test size = 0.30\n",
      "KNN Accuracy:  0.987 \t Recall: 0.987 \n",
      "SVM Accuracy:  0.991 \t Recall: 0.991 \n",
      "RF Accuracy:  0.980 \t Recall: 0.980 \n",
      "\n",
      "SVM Confusion Matrix:\n",
      "[[45  0  0  0  0  0  0  0  0  0]\n",
      " [ 0 52  0  0  0  0  0  0  0  0]\n",
      " [ 0  0 53  0  0  0  0  0  0  0]\n",
      " [ 0  0  0 53  0  0  0  0  1  0]\n",
      " [ 0  0  0  0 48  0  0  0  0  0]\n",
      " [ 0  0  0  0  0 55  1  0  0  1]\n",
      " [ 0  0  0  0  0  0 60  0  0  0]\n",
      " [ 0  0  0  0  0  0  0 53  0  0]\n",
      " [ 0  1  0  0  0  0  0  0 60  0]\n",
      " [ 0  0  0  0  0  1  0  0  0 56]]\n"
     ]
    }
   ],
   "source": [
    "# Display the results\n",
    "print(\"COMP9517  Lab 4 - Solution\")\n",
    "print(\"\\nTest size = %.2f\" % test_size)\n",
    "\n",
    "print(\"KNN Accuracy:  %0.3f \\t Recall: %0.3f \" % (metrics.accuracy_score(y_test, knn_predictions), metrics.recall_score(y_test, knn_predictions, average='macro')))\n",
    "print(\"SVM Accuracy:  %0.3f \\t Recall: %0.3f \" % (metrics.accuracy_score(y_test, SVM_predictions), metrics.recall_score(y_test, SVM_predictions, average='macro')))\n",
    "print(\"RF Accuracy:  %0.3f \\t Recall: %0.3f \" % (metrics.accuracy_score(y_test, RF_predictions), metrics.recall_score(y_test, RF_predictions, average='macro')))\n",
    "\n",
    "print(\"\\nSVM Confusion Matrix:\")\n",
    "print(metrics.confusion_matrix(y_test, SVM_predictions))"
   ]
  },
  {
   "cell_type": "code",
   "execution_count": null,
   "metadata": {},
   "outputs": [],
   "source": []
  }
 ],
 "metadata": {
  "kernelspec": {
   "display_name": "Python 3",
   "language": "python",
   "name": "python3"
  },
  "language_info": {
   "codemirror_mode": {
    "name": "ipython",
    "version": 3
   },
   "file_extension": ".py",
   "mimetype": "text/x-python",
   "name": "python",
   "nbconvert_exporter": "python",
   "pygments_lexer": "ipython3",
   "version": "3.7.9"
  }
 },
 "nbformat": 4,
 "nbformat_minor": 4
}
