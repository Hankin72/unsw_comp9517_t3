{
 "cells": [
  {
   "cell_type": "code",
   "execution_count": 1,
   "metadata": {},
   "outputs": [],
   "source": [
    "import matplotlib.pyplot as  plt\n",
    "import numpy as np\n",
    "import cv2\n",
    "from sklearn import datasets\n",
    "from sklearn import metrics\n",
    "from sklearn import datasets, svm, metrics\n",
    "from sklearn.metrics import accuracy_score\n",
    "from sklearn.metrics import precision_score\n",
    "from sklearn.metrics import recall_score\n",
    "from sklearn.metrics import confusion_matrix\n",
    "\n",
    "from sklearn import preprocessing\n",
    "from sklearn.neighbors import KNeighborsClassifier\n",
    "from sklearn.svm import SVC\n",
    "from sklearn.ensemble import RandomForestClassifier\n",
    "from sklearn.model_selection import train_test_split\n"
   ]
  },
  {
   "cell_type": "code",
   "execution_count": 2,
   "metadata": {},
   "outputs": [
    {
     "name": "stdout",
     "output_type": "stream",
     "text": [
      "dict_keys(['data', 'target', 'frame', 'feature_names', 'target_names', 'images', 'DESCR'])\n"
     ]
    },
    {
     "data": {
      "text/plain": [
       "array([0, 1, 2, ..., 8, 9, 8])"
      ]
     },
     "execution_count": 2,
     "metadata": {},
     "output_type": "execute_result"
    }
   ],
   "source": [
    "#Load the digits dataset\n",
    "digits = datasets.load_digits()\n",
    "print(digits.keys())\n",
    "digits['target']\n",
    "# target = label of image "
   ]
  },
  {
   "cell_type": "code",
   "execution_count": 3,
   "metadata": {},
   "outputs": [
    {
     "data": {
      "image/png": "[encoded data removed]",
      "text/plain": [
       "<Figure size 432x288 with 1 Axes>"
      ]
     },
     "metadata": {
      "needs_background": "light"
     },
     "output_type": "display_data"
    },
    {
     "data": {
      "image/png": "[encoded data removed]",
      "text/plain": [
       "<Figure size 216x216 with 1 Axes>"
      ]
     },
     "metadata": {
      "needs_background": "light"
     },
     "output_type": "display_data"
    }
   ],
   "source": [
    "#Display the first digit\n",
    "plt.imshow(digits.images[0],'gray')\n",
    "plt.show()\n",
    "plt.figure(1,figsize=(3, 3))\n",
    "plt.imshow(digits.images[-1], cmap=plt.cm.gray_r, interpolation='nearest')\n",
    "plt.show()"
   ]
  },
  {
   "cell_type": "code",
   "execution_count": 4,
   "metadata": {},
   "outputs": [],
   "source": [
    "# split the images using sklearn's train_test_split()\n",
    "X_train, X_test, y_train, y_test = train_test_split(digits.data, digits.target, test_size=0.25, random_state =0)"
   ]
  },
  {
   "cell_type": "code",
   "execution_count": 15,
   "metadata": {},
   "outputs": [
    {
     "data": {
      "text/plain": [
       "numpy.ndarray"
      ]
     },
     "execution_count": 15,
     "metadata": {},
     "output_type": "execute_result"
    }
   ],
   "source": [
    "type(digits.data)"
   ]
  },
  {
   "cell_type": "code",
   "execution_count": 5,
   "metadata": {},
   "outputs": [],
   "source": [
    "##  KNN "
   ]
  },
  {
   "cell_type": "code",
   "execution_count": 6,
   "metadata": {},
   "outputs": [],
   "source": [
    "#  init: n_neighbors=5 \n",
    "n = 3 \n",
    "clf_neigh = KNeighborsClassifier(n_neighbors = n)\n",
    "#traning process\n",
    "clf_neigh.fit(X_train, y_train)\n",
    "# test and predict y label =? x_test\n",
    "y_predict_knn = clf_neigh.predict(X_test) \n",
    "\n",
    "# evaluate the performance: accuracy\n",
    "accuracy_knn = accuracy_score(y_test,y_predict_knn,normalize=True)\n",
    "# metrics.precision_score(y_test,y_predict, average='macro')\n",
    "# average_recall\n",
    "average_recall_knn =recall_score(y_test, y_predict_knn, average='macro')\n",
    "# confusion matrix \n",
    "confusion_matrix_knn = confusion_matrix(y_test, y_predict_knn)"
   ]
  },
  {
   "cell_type": "code",
   "execution_count": 7,
   "metadata": {},
   "outputs": [],
   "source": [
    "# SVM "
   ]
  },
  {
   "cell_type": "code",
   "execution_count": 8,
   "metadata": {},
   "outputs": [],
   "source": [
    "clf_svm = svm.SVC()\n",
    "clf_svm.fit(X_train, y_train)\n",
    "y_predict_svm = clf_svm.predict(X_test)\n",
    "\n",
    "accuracy_svm = accuracy_score(y_test,y_predict_svm,normalize=True)\n",
    "average_recall_svm =recall_score(y_test, y_predict_svm, average='macro')\n",
    "confusion_matrix_svm = confusion_matrix(y_test, y_predict_svm)"
   ]
  },
  {
   "cell_type": "code",
   "execution_count": 9,
   "metadata": {},
   "outputs": [],
   "source": [
    "# RF: random forest"
   ]
  },
  {
   "cell_type": "code",
   "execution_count": 10,
   "metadata": {},
   "outputs": [],
   "source": [
    "# RF: random forest\n",
    "clf_RF = RandomForestClassifier()\n",
    "clf_RF.fit(X_train, y_train)\n",
    "\n",
    "\n",
    "y_predict_RF = clf_RF.predict(X_test)\n",
    "\n",
    "accuracy_RF = accuracy_score(y_test,y_predict_RF,normalize=True)\n",
    "average_recall_RF = recall_score(y_test, y_predict_RF, average='macro')\n",
    "confusion_matrix_RF = confusion_matrix(y_test, y_predict_RF)"
   ]
  },
  {
   "cell_type": "code",
   "execution_count": 11,
   "metadata": {},
   "outputs": [
    {
     "name": "stdout",
     "output_type": "stream",
     "text": [
      "The output of split the train_test data by KNN:\n",
      "The accuracy (n_neighbors = 3) is 0.987\n",
      "The average recall is 0.987\n",
      "The condusion matrix is: \n",
      " [[37  0  0  0  0  0  0  0  0  0]\n",
      " [ 0 42  0  0  0  1  0  0  0  0]\n",
      " [ 0  0 44  0  0  0  0  0  0  0]\n",
      " [ 0  0  1 44  0  0  0  0  0  0]\n",
      " [ 0  0  0  0 37  0  0  1  0  0]\n",
      " [ 0  0  0  0  0 47  0  0  0  1]\n",
      " [ 0  0  0  0  0  0 52  0  0  0]\n",
      " [ 0  0  0  0  0  0  0 48  0  0]\n",
      " [ 0  0  0  2  0  0  0  0 46  0]\n",
      " [ 0  0  0  0  0  0  0  0  0 47]]\n"
     ]
    }
   ],
   "source": [
    "# output \n",
    "#\n",
    "print(\"The output of split the train_test data by KNN:\")\n",
    "print(f\"The accuracy (n_neighbors = {n}) is {accuracy_knn:.3f}\")\n",
    "print(\"The average recall is %.3f\"  % average_recall_knn)\n",
    "print(\"The condusion matrix is: \\n\", confusion_matrix_knn)"
   ]
  },
  {
   "cell_type": "code",
   "execution_count": 12,
   "metadata": {},
   "outputs": [
    {
     "name": "stdout",
     "output_type": "stream",
     "text": [
      "The output of split the train_test data by SVM:\n",
      "The accuracy is 0.991\n",
      "The average recall is 0.991\n",
      "The condusion matrix is: \n",
      " [[37  0  0  0  0  0  0  0  0  0]\n",
      " [ 0 43  0  0  0  0  0  0  0  0]\n",
      " [ 0  0 44  0  0  0  0  0  0  0]\n",
      " [ 0  0  0 44  0  0  0  0  1  0]\n",
      " [ 0  0  0  0 38  0  0  0  0  0]\n",
      " [ 0  0  0  0  0 47  0  0  0  1]\n",
      " [ 0  0  0  0  0  0 52  0  0  0]\n",
      " [ 0  0  0  0  0  0  0 48  0  0]\n",
      " [ 0  1  0  0  0  0  0  0 47  0]\n",
      " [ 0  0  0  0  0  1  0  0  0 46]]\n"
     ]
    }
   ],
   "source": [
    "print(\"The output of split the train_test data by SVM:\")\n",
    "print(f\"The accuracy is %.3f\" % accuracy_svm)\n",
    "print(\"The average recall is %.3f\"  % average_recall_svm)\n",
    "print(\"The condusion matrix is: \\n\", confusion_matrix_svm)"
   ]
  },
  {
   "cell_type": "code",
   "execution_count": 13,
   "metadata": {},
   "outputs": [
    {
     "name": "stdout",
     "output_type": "stream",
     "text": [
      "The output of split the train_test data by RF:\n",
      "The accuracy is 0.982\n",
      "The average recall is 0.982\n",
      "The condusion matrix is: \n",
      " [[37  0  0  0  0  0  0  0  0  0]\n",
      " [ 0 43  0  0  0  0  0  0  0  0]\n",
      " [ 1  0 43  0  0  0  0  0  0  0]\n",
      " [ 0  0  0 44  0  0  0  0  1  0]\n",
      " [ 0  0  0  0 37  0  0  1  0  0]\n",
      " [ 0  0  0  0  0 47  0  0  0  1]\n",
      " [ 0  0  0  0  0  0 52  0  0  0]\n",
      " [ 0  0  0  0  0  0  0 48  0  0]\n",
      " [ 0  1  0  0  0  0  0  1 46  0]\n",
      " [ 0  0  0  1  0  1  0  0  0 45]]\n"
     ]
    }
   ],
   "source": [
    "print(\"The output of split the train_test data by RF:\")\n",
    "print(f\"The accuracy is %.3f\" %accuracy_RF)\n",
    "print(\"The average recall is %.3f\" % average_recall_RF)\n",
    "print(\"The condusion matrix is: \\n\", confusion_matrix_RF)"
   ]
  },
  {
   "cell_type": "code",
   "execution_count": 14,
   "metadata": {},
   "outputs": [],
   "source": [
    "# Therefore, the default hyper-parameter values for SVM and RF, and for KNN, use the best number of neighbours, \n",
    "#the classifer SVM has better classification effect."
   ]
  },
  {
   "cell_type": "code",
   "execution_count": null,
   "metadata": {},
   "outputs": [],
   "source": []
  }
 ],
 "metadata": {
  "kernelspec": {
   "display_name": "Python 3",
   "language": "python",
   "name": "python3"
  },
  "language_info": {
   "codemirror_mode": {
    "name": "ipython",
    "version": 3
   },
   "file_extension": ".py",
   "mimetype": "text/x-python",
   "name": "python",
   "nbconvert_exporter": "python",
   "pygments_lexer": "ipython3",
   "version": "3.7.9"
  }
 },
 "nbformat": 4,
 "nbformat_minor": 4
}
